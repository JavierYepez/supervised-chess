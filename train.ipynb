{
 "cells": [
  {
   "cell_type": "code",
   "execution_count": 1,
   "metadata": {},
   "outputs": [],
   "source": [
    "from pathlib import Path\n",
    "import torch\n",
    "import torch.nn as nn\n",
    "import torch.optim as optim\n",
    "from torch.utils.data import DataLoader, random_split\n",
    "from datetime import datetime\n",
    "\n",
    "from src.dataset import WhiteStandardChessDataset\n",
    "from src.model import ChessModel\n",
    "from src.training import train_model\n",
    "from src.training import EarlyStop"
   ]
  },
  {
   "cell_type": "markdown",
   "metadata": {},
   "source": [
    "## Prepare data and model"
   ]
  },
  {
   "cell_type": "code",
   "execution_count": 2,
   "metadata": {},
   "outputs": [
    {
     "data": {
      "application/vnd.jupyter.widget-view+json": {
       "model_id": "f47c351fdff342f58ec34adbf4fb7bad",
       "version_major": 2,
       "version_minor": 0
      },
      "text/plain": [
       "Files Processed:   0%|          | 0/10 [00:00<?, ?it/s]"
      ]
     },
     "metadata": {},
     "output_type": "display_data"
    },
    {
     "data": {
      "application/vnd.jupyter.widget-view+json": {
       "model_id": "2691eed9d0bc40edb8e0b9bc73e9170a",
       "version_major": 2,
       "version_minor": 0
      },
      "text/plain": [
       "data/last/lichess_elite_2024-04.pgn:   0%|          | 0/268460 [00:00<?, ?it/s]"
      ]
     },
     "metadata": {},
     "output_type": "display_data"
    },
    {
     "data": {
      "application/vnd.jupyter.widget-view+json": {
       "model_id": "ea00f67741f34276bbe03e703192358f",
       "version_major": 2,
       "version_minor": 0
      },
      "text/plain": [
       "data/last/lichess_elite_2024-05.pgn:   0%|          | 0/276494 [00:00<?, ?it/s]"
      ]
     },
     "metadata": {},
     "output_type": "display_data"
    },
    {
     "data": {
      "application/vnd.jupyter.widget-view+json": {
       "model_id": "d48a9da78b2f4386888e83947e30cc7d",
       "version_major": 2,
       "version_minor": 0
      },
      "text/plain": [
       "data/last/lichess_elite_2024-06.pgn:   0%|          | 0/253321 [00:00<?, ?it/s]"
      ]
     },
     "metadata": {},
     "output_type": "display_data"
    },
    {
     "data": {
      "application/vnd.jupyter.widget-view+json": {
       "model_id": "e526b6c802844fe098e17ab6a8b46f95",
       "version_major": 2,
       "version_minor": 0
      },
      "text/plain": [
       "data/last/lichess_elite_2024-02.pgn:   0%|          | 0/263816 [00:00<?, ?it/s]"
      ]
     },
     "metadata": {},
     "output_type": "display_data"
    },
    {
     "data": {
      "application/vnd.jupyter.widget-view+json": {
       "model_id": "d32b9652f2a14ac0979340f548966f3d",
       "version_major": 2,
       "version_minor": 0
      },
      "text/plain": [
       "data/last/lichess_elite_2024-03.pgn:   0%|          | 0/278293 [00:00<?, ?it/s]"
      ]
     },
     "metadata": {},
     "output_type": "display_data"
    },
    {
     "data": {
      "application/vnd.jupyter.widget-view+json": {
       "model_id": "3386e66484394ef788dff7a395aab59a",
       "version_major": 2,
       "version_minor": 0
      },
      "text/plain": [
       "data/last/lichess_elite_2024-01.pgn:   0%|          | 0/298095 [00:00<?, ?it/s]"
      ]
     },
     "metadata": {},
     "output_type": "display_data"
    },
    {
     "data": {
      "application/vnd.jupyter.widget-view+json": {
       "model_id": "69dedfdfbc934c978e695d1c67dcbfb9",
       "version_major": 2,
       "version_minor": 0
      },
      "text/plain": [
       "data/last/lichess_elite_2023-09.pgn:   0%|          | 0/291787 [00:00<?, ?it/s]"
      ]
     },
     "metadata": {},
     "output_type": "display_data"
    },
    {
     "data": {
      "application/vnd.jupyter.widget-view+json": {
       "model_id": "743c83ba2c264faea8aa3d40185965ff",
       "version_major": 2,
       "version_minor": 0
      },
      "text/plain": [
       "data/last/lichess_elite_2023-10.pgn:   0%|          | 0/285920 [00:00<?, ?it/s]"
      ]
     },
     "metadata": {},
     "output_type": "display_data"
    },
    {
     "data": {
      "application/vnd.jupyter.widget-view+json": {
       "model_id": "acbf63c4157744369da38854685f5167",
       "version_major": 2,
       "version_minor": 0
      },
      "text/plain": [
       "data/last/lichess_elite_2023-11.pgn:   0%|          | 0/284773 [00:00<?, ?it/s]"
      ]
     },
     "metadata": {},
     "output_type": "display_data"
    },
    {
     "data": {
      "application/vnd.jupyter.widget-view+json": {
       "model_id": "a14e591afb0643549b065368a0cb72c3",
       "version_major": 2,
       "version_minor": 0
      },
      "text/plain": [
       "data/last/lichess_elite_2023-12.pgn:   0%|          | 0/315135 [00:00<?, ?it/s]"
      ]
     },
     "metadata": {},
     "output_type": "display_data"
    },
    {
     "name": "stderr",
     "output_type": "stream",
     "text": [
      "/Users/jyepez/Documents/Projects/chess/src/dataset/processed_dataset.py:129: UserWarning: The given buffer is not writable, and PyTorch does not support non-writable tensors. This means you can write to the underlying (supposedly non-writable) buffer using the tensor. You may want to copy the buffer to protect its data or make it writable before converting it to a tensor. This type of warning will be suppressed for the rest of this program. (Triggered internally at /Users/runner/work/_temp/anaconda/conda-bld/pytorch_1711403226260/work/torch/csrc/utils/tensor_new.cpp:1527.)\n",
      "  X = torch.frombuffer(buffer[:self.X_nbytes], dtype=torch.int8).view(self.X_shape)\n"
     ]
    },
    {
     "name": "stdout",
     "output_type": "stream",
     "text": [
      "Using device: cpu\n"
     ]
    }
   ],
   "source": [
    "# Create Dataset and DataLoader\n",
    "dataset = WhiteStandardChessDataset(Path(\"./data/last/\"))\n",
    "train_dataset, val_dataset = random_split(dataset, [0.8, 0.2])\n",
    "\n",
    "train_dataloader = DataLoader(train_dataset, batch_size=64, shuffle=True)\n",
    "val_dataloader = DataLoader(val_dataset, batch_size=64, shuffle=True)\n",
    "\n",
    "# Check for GPU\n",
    "device = torch.device(\"cuda:0\" if torch.cuda.is_available() else \"cpu\")\n",
    "print(f\"Using device: {device}\")\n",
    "\n",
    "# Model Initialization\n",
    "model = ChessModel().to(device)\n",
    "criterion = nn.CrossEntropyLoss()\n",
    "optimizer = optim.Adam(model.parameters(), lr=0.0001)\n",
    "\n",
    "early_stopper = EarlyStop(patience=3)"
   ]
  },
  {
   "cell_type": "markdown",
   "metadata": {},
   "source": [
    "## Train model"
   ]
  },
  {
   "cell_type": "code",
   "execution_count": 3,
   "metadata": {},
   "outputs": [
    {
     "data": {
      "application/vnd.jupyter.widget-view+json": {
       "model_id": "9de896b7be6d496ebe181e5bc39304f9",
       "version_major": 2,
       "version_minor": 0
      },
      "text/plain": [
       "Training Epoch 1:   0%|          | 0/12978 [00:00<?, ?it/s]"
      ]
     },
     "metadata": {},
     "output_type": "display_data"
    },
    {
     "data": {
      "application/vnd.jupyter.widget-view+json": {
       "model_id": "009ef279729f4b719466a3061efdb6c2",
       "version_major": 2,
       "version_minor": 0
      },
      "text/plain": [
       "Calculating vloss:   0%|          | 0/3245 [00:00<?, ?it/s]"
      ]
     },
     "metadata": {},
     "output_type": "display_data"
    },
    {
     "name": "stdout",
     "output_type": "stream",
     "text": [
      "LOSS train 5.379398063182831 valid 5.379934787750244\n"
     ]
    },
    {
     "data": {
      "application/vnd.jupyter.widget-view+json": {
       "model_id": "2d540316939a4ad19cac6236b2277667",
       "version_major": 2,
       "version_minor": 0
      },
      "text/plain": [
       "Training Epoch 2:   0%|          | 0/12978 [00:00<?, ?it/s]"
      ]
     },
     "metadata": {},
     "output_type": "display_data"
    },
    {
     "data": {
      "application/vnd.jupyter.widget-view+json": {
       "model_id": "668366a6023345afad9ac5b35e6b618b",
       "version_major": 2,
       "version_minor": 0
      },
      "text/plain": [
       "Calculating vloss:   0%|          | 0/3245 [00:00<?, ?it/s]"
      ]
     },
     "metadata": {},
     "output_type": "display_data"
    },
    {
     "name": "stdout",
     "output_type": "stream",
     "text": [
      "LOSS train 5.156546977519989 valid 5.175371170043945\n"
     ]
    },
    {
     "data": {
      "application/vnd.jupyter.widget-view+json": {
       "model_id": "b1256c5cd9564e5ea34d8ecaf740dccf",
       "version_major": 2,
       "version_minor": 0
      },
      "text/plain": [
       "Training Epoch 3:   0%|          | 0/12978 [00:00<?, ?it/s]"
      ]
     },
     "metadata": {},
     "output_type": "display_data"
    },
    {
     "data": {
      "application/vnd.jupyter.widget-view+json": {
       "model_id": "dcf25c02f0f64fba86d6e79de9552562",
       "version_major": 2,
       "version_minor": 0
      },
      "text/plain": [
       "Calculating vloss:   0%|          | 0/3245 [00:00<?, ?it/s]"
      ]
     },
     "metadata": {},
     "output_type": "display_data"
    },
    {
     "name": "stdout",
     "output_type": "stream",
     "text": [
      "LOSS train 5.018446099281311 valid 5.094732761383057\n"
     ]
    },
    {
     "data": {
      "application/vnd.jupyter.widget-view+json": {
       "model_id": "9e8d28b182f640228f939288f3900b58",
       "version_major": 2,
       "version_minor": 0
      },
      "text/plain": [
       "Training Epoch 4:   0%|          | 0/12978 [00:00<?, ?it/s]"
      ]
     },
     "metadata": {},
     "output_type": "display_data"
    },
    {
     "data": {
      "application/vnd.jupyter.widget-view+json": {
       "model_id": "dc08e4ee88ad44c79efb7e0ffddf573a",
       "version_major": 2,
       "version_minor": 0
      },
      "text/plain": [
       "Calculating vloss:   0%|          | 0/3245 [00:00<?, ?it/s]"
      ]
     },
     "metadata": {},
     "output_type": "display_data"
    },
    {
     "name": "stdout",
     "output_type": "stream",
     "text": [
      "LOSS train 4.9104393205642705 valid 5.03961706161499\n"
     ]
    },
    {
     "data": {
      "application/vnd.jupyter.widget-view+json": {
       "model_id": "bdb9196b85a346beb6b4fcb975d817a3",
       "version_major": 2,
       "version_minor": 0
      },
      "text/plain": [
       "Training Epoch 5:   0%|          | 0/12978 [00:00<?, ?it/s]"
      ]
     },
     "metadata": {},
     "output_type": "display_data"
    },
    {
     "data": {
      "application/vnd.jupyter.widget-view+json": {
       "model_id": "d02c9384dfc241d781a60f7c256cc2e9",
       "version_major": 2,
       "version_minor": 0
      },
      "text/plain": [
       "Calculating vloss:   0%|          | 0/3245 [00:00<?, ?it/s]"
      ]
     },
     "metadata": {},
     "output_type": "display_data"
    },
    {
     "name": "stdout",
     "output_type": "stream",
     "text": [
      "LOSS train 4.845424025058747 valid 5.010734558105469\n"
     ]
    },
    {
     "data": {
      "application/vnd.jupyter.widget-view+json": {
       "model_id": "721fc67e4a9345448ac9bc0cfe531121",
       "version_major": 2,
       "version_minor": 0
      },
      "text/plain": [
       "Training Epoch 6:   0%|          | 0/12978 [00:00<?, ?it/s]"
      ]
     },
     "metadata": {},
     "output_type": "display_data"
    },
    {
     "data": {
      "application/vnd.jupyter.widget-view+json": {
       "model_id": "6657ed8bbb714345a2c67ddd74a19322",
       "version_major": 2,
       "version_minor": 0
      },
      "text/plain": [
       "Calculating vloss:   0%|          | 0/3245 [00:00<?, ?it/s]"
      ]
     },
     "metadata": {},
     "output_type": "display_data"
    },
    {
     "name": "stdout",
     "output_type": "stream",
     "text": [
      "LOSS train 4.774623353004456 valid 5.003129005432129\n"
     ]
    },
    {
     "data": {
      "application/vnd.jupyter.widget-view+json": {
       "model_id": "8901c322685b4ef293fa9f3bdf1bf4a1",
       "version_major": 2,
       "version_minor": 0
      },
      "text/plain": [
       "Training Epoch 7:   0%|          | 0/12978 [00:00<?, ?it/s]"
      ]
     },
     "metadata": {},
     "output_type": "display_data"
    },
    {
     "data": {
      "application/vnd.jupyter.widget-view+json": {
       "model_id": "e7a399a38a334b30bf0266a38e023329",
       "version_major": 2,
       "version_minor": 0
      },
      "text/plain": [
       "Calculating vloss:   0%|          | 0/3245 [00:00<?, ?it/s]"
      ]
     },
     "metadata": {},
     "output_type": "display_data"
    },
    {
     "name": "stdout",
     "output_type": "stream",
     "text": [
      "LOSS train 4.706614449501037 valid 4.996741771697998\n"
     ]
    },
    {
     "data": {
      "application/vnd.jupyter.widget-view+json": {
       "model_id": "922fe7e4f6fc4692bd486d79e94278c0",
       "version_major": 2,
       "version_minor": 0
      },
      "text/plain": [
       "Training Epoch 8:   0%|          | 0/12978 [00:00<?, ?it/s]"
      ]
     },
     "metadata": {},
     "output_type": "display_data"
    },
    {
     "data": {
      "application/vnd.jupyter.widget-view+json": {
       "model_id": "2770cbead8894d55a50b644b11807dae",
       "version_major": 2,
       "version_minor": 0
      },
      "text/plain": [
       "Calculating vloss:   0%|          | 0/3245 [00:00<?, ?it/s]"
      ]
     },
     "metadata": {},
     "output_type": "display_data"
    },
    {
     "name": "stdout",
     "output_type": "stream",
     "text": [
      "LOSS train 4.670058840751648 valid 4.998325347900391\n"
     ]
    },
    {
     "data": {
      "application/vnd.jupyter.widget-view+json": {
       "model_id": "f618a9a05d754ed995afa5a3aa5ed875",
       "version_major": 2,
       "version_minor": 0
      },
      "text/plain": [
       "Training Epoch 9:   0%|          | 0/12978 [00:00<?, ?it/s]"
      ]
     },
     "metadata": {},
     "output_type": "display_data"
    },
    {
     "data": {
      "application/vnd.jupyter.widget-view+json": {
       "model_id": "1cdf2f67f8774a6d95066dc7ea55b43a",
       "version_major": 2,
       "version_minor": 0
      },
      "text/plain": [
       "Calculating vloss:   0%|          | 0/3245 [00:00<?, ?it/s]"
      ]
     },
     "metadata": {},
     "output_type": "display_data"
    },
    {
     "name": "stdout",
     "output_type": "stream",
     "text": [
      "LOSS train 4.621377175569534 valid 5.004258632659912\n"
     ]
    },
    {
     "data": {
      "application/vnd.jupyter.widget-view+json": {
       "model_id": "ba423b46cfd144819a3edf5a58214c6c",
       "version_major": 2,
       "version_minor": 0
      },
      "text/plain": [
       "Training Epoch 10:   0%|          | 0/12978 [00:00<?, ?it/s]"
      ]
     },
     "metadata": {},
     "output_type": "display_data"
    },
    {
     "data": {
      "application/vnd.jupyter.widget-view+json": {
       "model_id": "eb1d8f2f7b7d45a88711b18efd78024b",
       "version_major": 2,
       "version_minor": 0
      },
      "text/plain": [
       "Calculating vloss:   0%|          | 0/3245 [00:00<?, ?it/s]"
      ]
     },
     "metadata": {},
     "output_type": "display_data"
    },
    {
     "name": "stdout",
     "output_type": "stream",
     "text": [
      "LOSS train 4.5796228530406955 valid 5.011059761047363\n",
      "Early stopping! vloss not decreasing for 3 epochs.\n"
     ]
    }
   ],
   "source": [
    "timestamp = datetime.now().strftime(\"%Y%m%d_%H%M\")\n",
    "\n",
    "EXPERIMENT_NAME = f\"chess_white_14dim_run_{timestamp}\"\n",
    "EPOCHS = 50\n",
    "\n",
    "train_model(\n",
    "    training_loader=train_dataloader,\n",
    "    validation_loader=val_dataloader,\n",
    "    model=model,\n",
    "    optimizer=optimizer,\n",
    "    loss_fn=criterion,\n",
    "    epochs=EPOCHS,\n",
    "    experiment_name=EXPERIMENT_NAME,\n",
    "    device=device,\n",
    "    early_stop=early_stopper,\n",
    ")"
   ]
  },
  {
   "cell_type": "code",
   "execution_count": null,
   "metadata": {},
   "outputs": [],
   "source": []
  }
 ],
 "metadata": {
  "kernelspec": {
   "display_name": "Python 3",
   "language": "python",
   "name": "python3"
  },
  "language_info": {
   "codemirror_mode": {
    "name": "ipython",
    "version": 3
   },
   "file_extension": ".py",
   "mimetype": "text/x-python",
   "name": "python",
   "nbconvert_exporter": "python",
   "pygments_lexer": "ipython3",
   "version": "3.10.14"
  }
 },
 "nbformat": 4,
 "nbformat_minor": 2
}
